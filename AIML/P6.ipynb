{
 "cells": [
  {
   "cell_type": "code",
   "execution_count": 1,
   "metadata": {},
   "outputs": [
    {
     "name": "stdout",
     "output_type": "stream",
     "text": [
      "Accuracy:  0.9333333333333333\n",
      "              precision    recall  f1-score   support\n",
      "\n",
      "         0.0       1.00      1.00      1.00        14\n",
      "         1.0       0.75      1.00      0.86         6\n",
      "         2.0       1.00      0.80      0.89        10\n",
      "\n",
      "    accuracy                           0.93        30\n",
      "   macro avg       0.92      0.93      0.92        30\n",
      "weighted avg       0.95      0.93      0.93        30\n",
      "\n"
     ]
    }
   ],
   "source": [
    "import pandas as pd\n",
    "import numpy as np\n",
    "from sklearn.model_selection import train_test_split\n",
    "from sklearn.metrics import accuracy_score,classification_report\n",
    "from sklearn.neighbors import KNeighborsClassifier\n",
    "data=pd.read_csv(\"iris.csv\",header='infer').values\n",
    "x=data[:,1:-1]\n",
    "y=data[:,-1]\n",
    "x_train,x_test,y_train,y_test=train_test_split(x,y,test_size=0.2,shuffle=True)\n",
    "k=int(input(\"Enter number of nearest neighbors: \"))\n",
    "model=KNeighborsClassifier(n_neighbors=k,weights='distance')\n",
    "model.fit(x_train,y_train)\n",
    "pred=model.predict(x_test)\n",
    "accuracy=accuracy_score(y_test,pred)\n",
    "print('Accuracy: ',accuracy)\n",
    "print(classification_report(y_test,pred))"
   ]
  },
  {
   "cell_type": "code",
   "execution_count": 5,
   "metadata": {},
   "outputs": [
    {
     "name": "stdout",
     "output_type": "stream",
     "text": [
      "Accuracy: 1.0\n",
      "Precision: 1.0\n",
      "Recall: 1.0\n",
      "F1-score: 1.0\n",
      "Classification Report:\n",
      "              precision    recall  f1-score   support\n",
      "\n",
      "         0.0       1.00      1.00      1.00        10\n",
      "         1.0       1.00      1.00      1.00        11\n",
      "         2.0       1.00      1.00      1.00         9\n",
      "\n",
      "    accuracy                           1.00        30\n",
      "   macro avg       1.00      1.00      1.00        30\n",
      "weighted avg       1.00      1.00      1.00        30\n",
      "\n"
     ]
    }
   ],
   "source": [
    "import pandas as pd\n",
    "import numpy as np\n",
    "from sklearn.model_selection import train_test_split\n",
    "from sklearn.metrics import accuracy_score,classification_report\n",
    "data = pd.read_csv(\"iris.csv\",header='infer').values\n",
    "x = data[:,1:-1]\n",
    "y = data[:,-1]\n",
    "x_train,x_test,y_train,y_test = train_test_split(x,y,test_size=0.2,shuffle=True)\n",
    "\n",
    "nclasses = np.unique(y_train).shape[0]\n",
    "dist = np.zeros(shape = x_train.shape[0])\n",
    "pred = np.zeros(shape = x_test.shape[0])\n",
    "classvotes = np.zeros(shape = nclasses)\n",
    "\n",
    "k = int(input(\"Enter the number of nearest neighbours to be used, i.e. k: \"))\n",
    "for i in range(x_test.shape[0]):\n",
    "    dist = np.sqrt(np.sum((x_train-x_test[i])**2,axis = 1))\n",
    "    kminind = np.argpartition(dist,k)[0:k]\n",
    "    invdist = 1/(dist+10e-20)\n",
    "    denom = sum(invdist[kminind])\n",
    "    for j in range(k):\n",
    "        classvotes[int(y_train[kminind[j]])] += invdist[kminind[j]]\n",
    "    classvotes /= denom\n",
    "    pred[i] = np.argmax(classvotes)\n",
    "\n",
    "def calc_acc(y_pred,y_true):\n",
    "    return np.sum((y_pred).astype(int) == (y_true).astype(int))/y_pred.shape[0]\n",
    "def calc_prec(y_pred,y_true):\n",
    "    classes = np.unique(y_true)\n",
    "    nclasses = classes.shape[0]\n",
    "    nrows = y_true.shape[0]\n",
    "    classprop = np.zeros(shape=nclasses)\n",
    "    for i in range(nclasses):\n",
    "        classprop[i] = np.sum(y_true == classes[i])/nrows\n",
    "    precclasswise = np.zeros(shape=nclasses)\n",
    "    prec = 0\n",
    "    for i in range(nclasses):\n",
    "        predindices = np.where((((y_pred).astype(int)) == (classes[i].astype(int))) == True)\n",
    "        trueindices = np.where((((y_true).astype(int)) == (classes[i].astype(int))) == True)\n",
    "        precclasswise[i] = ((len(predindices[0]))-(len(set(predindices[0])-set(trueindices[0]))))/(len(predindices[0]))\n",
    "        prec += precclasswise[i]*classprop[i]\n",
    "    return prec\n",
    "                                                                                                       \n",
    "def calc_recall(y_pred,y_true):\n",
    "    classes = np.unique(y_true)\n",
    "    nclasses = classes.shape[0]\n",
    "    nrows = y_true.shape[0]\n",
    "    classprop = np.zeros(shape=nclasses)\n",
    "    for i in range(nclasses):\n",
    "        classprop[i] = np.sum(y_true == classes[i])/nrows\n",
    "    recallclasswise=np.zeros(shape==nclasses)\n",
    "    recall=0\n",
    "    for i in range(nclasses):\n",
    "        predindices = np.where((((y_pred).astype(int)) == (classes[i].astype(int))) == True)\n",
    "        trueindices = np.where((((y_true).astype(int)) == (classes[i].astype(int))) == True)\n",
    "        recallclasswise[i] = ((len(predindices[0]))-(len(set(trueindices[0])-set(predindices[0]))))/(len(predinices[0]))\n",
    "        recall += recallclasswise[i]*classprop[i]\n",
    "        return recall\n",
    "accuracy=calc_acc(pred,y_test)\n",
    "prec=calc_prec(pred,y_test)\n",
    "recall=calc_prec(pred,y_test)\n",
    "f1score=(2*prec*recall)/(prec+recall)\n",
    "print(\"Accuracy:\",accuracy)\n",
    "print(\"Precision:\",prec)\n",
    "print(\"Recall:\",recall)\n",
    "print(\"F1-score:\",f1score)\n",
    "print(\"Classification Report:\")\n",
    "print(classification_report(y_test,pred))"
   ]
  }
 ],
 "metadata": {
  "kernelspec": {
   "display_name": "Python 3 (ipykernel)",
   "language": "python",
   "name": "python3"
  },
  "language_info": {
   "codemirror_mode": {
    "name": "ipython",
    "version": 3
   },
   "file_extension": ".py",
   "mimetype": "text/x-python",
   "name": "python",
   "nbconvert_exporter": "python",
   "pygments_lexer": "ipython3",
   "version": "3.11.2"
  }
 },
 "nbformat": 4,
 "nbformat_minor": 2
}
