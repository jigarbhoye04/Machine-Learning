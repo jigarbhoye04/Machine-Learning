{
 "cells": [
  {
   "cell_type": "code",
   "execution_count": 1,
   "id": "5341882c",
   "metadata": {},
   "outputs": [
    {
     "name": "stdout",
     "output_type": "stream",
     "text": [
      "Enter number of nearest neighbours: 3\n",
      "MAE= 4.795477502926862\n",
      "MSE= 49.29555645242869\n",
      "RMS= 7.021079436413513\n",
      "MAPE= 0.2117576183044653\n"
     ]
    }
   ],
   "source": [
    "import pandas as pd\n",
    "import numpy as np\n",
    "from sklearn.model_selection import train_test_split\n",
    "from sklearn.metrics import accuracy_score,classification_report\n",
    "from sklearn.neighbors import KNeighborsClassifier\n",
    "import math\n",
    "data=pd.read_csv('BostonHousing.csv',header='infer').values\n",
    "x=data[:,0:-1]\n",
    "y=data[:,-1]\n",
    "x_train,x_test,y_train,y_test=train_test_split(x,y,test_size=0.2)\n",
    "\n",
    "k=int(input('Enter number of nearest neighbours: '))\n",
    "\n",
    "dist=np.zeros(x_train.shape[0])\n",
    "pred=np.zeros(x_test.shape[0])\n",
    "\n",
    "\n",
    "for i in range(x_test.shape[0]):\n",
    "    dist=np.sqrt(np.sum((x_train-x_test[i])**2,axis=1))\n",
    "    invdist=1/dist+10\n",
    "    kminind=np.argpartition(dist,k)[0:k]\n",
    "    denom=sum(invdist[kminind])\n",
    "    pred[i]=np.dot(invdist[kminind]/denom,y_train[kminind])\n",
    "    \n",
    "def MAE(pred,y_test):\n",
    "    return np.mean(abs((pred-y_test)))\n",
    "def MSE(pred,y_test):\n",
    "    return np.mean(((pred-y_test))**2)\n",
    "def MAPE(pred,y_test):\n",
    "    return np.mean(abs((pred-y_test)/y_test))\n",
    "mae=MAE(pred,y_test)\n",
    "mse=MSE(pred,y_test)\n",
    "rms=np.sqrt(mse)\n",
    "mape=MAPE(pred,y_test)\n",
    "print(\"MAE=\",mae)\n",
    "print(\"MSE=\",mse)\n",
    "print(\"RMS=\",rms)\n",
    "print(\"MAPE=\",mape)\n"
   ]
  },
  {
   "cell_type": "code",
   "execution_count": null,
   "id": "615110a6",
   "metadata": {},
   "outputs": [],
   "source": []
  },
  {
   "cell_type": "code",
   "execution_count": null,
   "id": "78285900",
   "metadata": {},
   "outputs": [],
   "source": []
  }
 ],
 "metadata": {
  "kernelspec": {
   "display_name": "Python 3 (ipykernel)",
   "language": "python",
   "name": "python3"
  },
  "language_info": {
   "codemirror_mode": {
    "name": "ipython",
    "version": 3
   },
   "file_extension": ".py",
   "mimetype": "text/x-python",
   "name": "python",
   "nbconvert_exporter": "python",
   "pygments_lexer": "ipython3",
   "version": "3.11.2"
  }
 },
 "nbformat": 4,
 "nbformat_minor": 5
}
