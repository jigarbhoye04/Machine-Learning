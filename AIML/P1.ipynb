{
 "cells": [
  {
   "cell_type": "code",
   "execution_count": 1,
   "id": "c9f50cbe",
   "metadata": {},
   "outputs": [
    {
     "name": "stdout",
     "output_type": "stream",
     "text": [
      "6\n"
     ]
    }
   ],
   "source": [
    "a=2\n",
    "b=4\n",
    "c=a+b\n",
    "print(c)"
   ]
  },
  {
   "cell_type": "code",
   "execution_count": 2,
   "id": "21ca6ba8",
   "metadata": {},
   "outputs": [
    {
     "ename": "ValueError",
     "evalue": "invalid literal for int() with base 10: ''",
     "output_type": "error",
     "traceback": [
      "\u001b[1;31m---------------------------------------------------------------------------\u001b[0m",
      "\u001b[1;31mValueError\u001b[0m                                Traceback (most recent call last)",
      "Cell \u001b[1;32mIn[2], line 1\u001b[0m\n\u001b[1;32m----> 1\u001b[0m a\u001b[38;5;241m=\u001b[39m\u001b[38;5;28;43mint\u001b[39;49m\u001b[43m(\u001b[49m\u001b[38;5;28;43minput\u001b[39;49m\u001b[43m(\u001b[49m\u001b[38;5;124;43m\"\u001b[39;49m\u001b[38;5;124;43mEnter a:\u001b[39;49m\u001b[38;5;124;43m\"\u001b[39;49m\u001b[43m)\u001b[49m\u001b[43m)\u001b[49m;\n\u001b[0;32m      2\u001b[0m b\u001b[38;5;241m=\u001b[39m\u001b[38;5;28mint\u001b[39m(\u001b[38;5;28minput\u001b[39m(\u001b[38;5;124m\"\u001b[39m\u001b[38;5;124mEnter b:\u001b[39m\u001b[38;5;124m\"\u001b[39m));\n\u001b[0;32m      3\u001b[0m c\u001b[38;5;241m=\u001b[39m\u001b[38;5;28mint\u001b[39m(\u001b[38;5;28minput\u001b[39m(\u001b[38;5;124m\"\u001b[39m\u001b[38;5;124mEnter c:\u001b[39m\u001b[38;5;124m\"\u001b[39m));\n",
      "\u001b[1;31mValueError\u001b[0m: invalid literal for int() with base 10: ''"
     ]
    }
   ],
   "source": [
    "a=int(input(\"Enter a:\"));\n",
    "b=int(input(\"Enter b:\"));\n",
    "c=int(input(\"Enter c:\"));\n",
    "if (a>b and a>c):\n",
    "    print(\"Hello, Ans is a:\",a)\n",
    "elif (b>c and b>a):\n",
    "    print(\"Hello, Ans is b:\",b)\n",
    "else:\n",
    "    print(\"Hello, Ans is c:\",c)"
   ]
  },
  {
   "cell_type": "code",
   "execution_count": 3,
   "id": "a34b2e0c",
   "metadata": {},
   "outputs": [
    {
     "name": "stdout",
     "output_type": "stream",
     "text": [
      "divisible by 2 not divisible by 3\n"
     ]
    }
   ],
   "source": [
    "num=int(input(\"enter number\"))\n",
    "if num%2==0:\n",
    "    if num%3==0:\n",
    "        print (\"Divisible by 3 and 2\")\n",
    "    else:\n",
    "        print (\"divisible by 2 not divisible by 3\")\n",
    "else:\n",
    "    if num%3==0:\n",
    "        print (\"divisible by 3 not divisible by 2\")\n",
    "    else:\n",
    "        print (\"not Divisible by 2 not divisible by 3\")\n"
   ]
  },
  {
   "cell_type": "code",
   "execution_count": 4,
   "id": "09d77e16",
   "metadata": {},
   "outputs": [
    {
     "name": "stdout",
     "output_type": "stream",
     "text": [
      "current letter: H\n",
      "current letter: e\n",
      "current letter: l\n",
      "current letter: l\n",
      "current letter: o\n",
      "current letter:  \n",
      "current letter: W\n",
      "current letter: o\n",
      "current letter: r\n",
      "current letter: l\n",
      "current letter: d\n",
      "current letter: !\n"
     ]
    }
   ],
   "source": [
    "for letter in 'Hello World!':\n",
    "    print('current letter:',letter)"
   ]
  },
  {
   "cell_type": "code",
   "execution_count": 5,
   "id": "2fe38cc8",
   "metadata": {},
   "outputs": [
    {
     "name": "stdout",
     "output_type": "stream",
     "text": [
      "Current fruit : banana\n",
      "Current fruit : apple\n",
      "Current fruit : mango\n"
     ]
    }
   ],
   "source": [
    "fruits = ['banana', 'apple', 'mango']\n",
    "for fruit in fruits: \n",
    "    print ('Current fruit :', fruit)"
   ]
  },
  {
   "cell_type": "code",
   "execution_count": 6,
   "id": "25dacbbc",
   "metadata": {},
   "outputs": [
    {
     "name": "stdout",
     "output_type": "stream",
     "text": [
      "Current fruit : banana\n",
      "Current fruit : apple\n",
      "Current fruit : mango\n",
      "Current fruit : 12345\n",
      " \n",
      "current fruit: banana\n",
      "current fruit: apple\n",
      "current fruit: mango\n",
      "current fruit: 12345\n"
     ]
    }
   ],
   "source": [
    "fruits = ['banana', 'apple', 'mango',12345]\n",
    "for fruit in fruits: \n",
    "    print ('Current fruit :', fruit)\n",
    "\n",
    "print(\" \")\n",
    "for index in range(len(fruits)):\n",
    "    print('current fruit:',fruits[index])"
   ]
  },
  {
   "cell_type": "code",
   "execution_count": 17,
   "id": "9a630e5e",
   "metadata": {},
   "outputs": [
    {
     "name": "stdout",
     "output_type": "stream",
     "text": [
      "11 odd\n",
      "33 odd\n",
      "21 odd\n",
      "55 odd\n",
      "39 odd\n",
      "66 is even\n"
     ]
    }
   ],
   "source": [
    "numbers=[11,33,21,55,39,66,75,37,21,23,41,13]\n",
    "\n",
    "for num in numbers:\n",
    "    if num%2==0:\n",
    "        \n",
    "        print(num,\"is even\")\n",
    "        break\n",
    "    else:\n",
    "        print(num,'odd')\n",
    "        \n"
   ]
  },
  {
   "cell_type": "code",
   "execution_count": 18,
   "id": "970c9471",
   "metadata": {},
   "outputs": [
    {
     "name": "stdout",
     "output_type": "stream",
     "text": [
      "maximum is: 75     \n",
      "length: 15 maximum: 90 minimum: 9\n",
      "how many times the number occured 0\n",
      "after reversing: [90, 21, 9, 21, 41, 23, 21, 37, 37, 75, 55, 39, 55, 22, 33, 11]\n"
     ]
    }
   ],
   "source": [
    "num=[11,33,22,55,39,55,75,37,37,21,23,41,21,9,21]\n",
    "a=len(num)\n",
    "b=max(num)\n",
    "print(\"maximum is:\",b,\"    \")\n",
    "num.append(90)\n",
    "b=max(num)\n",
    "c=min(num)\n",
    "print('length:',a,'maximum:',b,'minimum:',c)\n",
    "i=int(input('enter value to be checked:'))\n",
    "print('how many times the number occured',num.count(i))\n",
    "num.reverse()\n",
    "\n",
    "print('after reversing:',num)"
   ]
  },
  {
   "cell_type": "code",
   "execution_count": null,
   "id": "8eb7f264",
   "metadata": {},
   "outputs": [
    {
     "name": "stdout",
     "output_type": "stream",
     "text": [
      "converts all char to uppercase: JIGAR\n",
      "its boolean f^n to check its first char is upper or not: False\n",
      "gives length of string: 5\n",
      "lowers all char: jigar\n",
      "gives max char(ascii): r\n",
      "gives minimum ascii char: a\n"
     ]
    }
   ],
   "source": [
    "str=\"jigar\"\n",
    "a=str.upper()\n",
    "b=str.isupper()\n",
    "c=len(str)\n",
    "d=str.lower()\n",
    "f=max(str)\n",
    "e=min(str)\n",
    "print('converts all char to uppercase:',a)\n",
    "print(\"its boolean f^n to check its first char is upper or not:\",b)\n",
    "print('gives length of string:',c)\n",
    "print('lowers all char:',d)\n",
    "print('gives max char(ascii):',f)\n",
    "print('gives minimum ascii char:',e)"
   ]
  },
  {
   "cell_type": "code",
   "execution_count": null,
   "id": "1f13c40d",
   "metadata": {},
   "outputs": [
    {
     "name": "stdout",
     "output_type": "stream",
     "text": [
      "values inside the function before change: [10, 20, 30, 40, 'Hello']\n",
      "after change: [10, 20, 'Jigar', 40, 'Hello']\n",
      "values outside function: [10, 20, 'Jigar', 40, 'Hello']\n"
     ]
    }
   ],
   "source": [
    "#pass by value into function::::\n",
    "def change(list):\n",
    "    print(\"values inside the function before change:\",list)\n",
    "    list[2]=\"Jigar\"\n",
    "    print(\"after change:\",list)\n",
    "    return 0\n",
    "\n",
    "list=[10,20,30,40,'Hello']\n",
    "change(list)\n",
    "print(\"values outside function:\",list)\n",
    "    \n"
   ]
  },
  {
   "cell_type": "code",
   "execution_count": null,
   "id": "e913ba03",
   "metadata": {},
   "outputs": [
    {
     "name": "stdout",
     "output_type": "stream",
     "text": [
      "values inside function: [10, 20, 30, 40, 'Hello']\n",
      "values after change [10, 2, 35, 52, 'jigar', 'hello']\n"
     ]
    }
   ],
   "source": [
    "# pass by reference(i think!)\n",
    "def change(list):\n",
    "    list=[10,20,30,40,'Hello']\n",
    "    print(\"values inside function:\",list)\n",
    "    return 0\n",
    "\n",
    "list=[10,2,35,52,'jigar','hello']\n",
    "change(list)\n",
    "print(\"values after change\",list)"
   ]
  },
  {
   "cell_type": "code",
   "execution_count": null,
   "id": "dca7f5f4",
   "metadata": {},
   "outputs": [
    {
     "name": "stdout",
     "output_type": "stream",
     "text": [
      "x is: 2\n",
      "y is: 2\n",
      "inside the function is local total: 4\n",
      "Outside the function the global variable total is: 0\n"
     ]
    }
   ],
   "source": [
    "total=0\n",
    "def sum(a,b):\n",
    "    total=a+b;\n",
    "    print('inside the function is local total:',total)\n",
    "    return total\n",
    "x=int(input(\"enter a:\"))\n",
    "print(\"x is:\",x)\n",
    "y=int(input(\"Enter b:\"))\n",
    "print(\"y is:\",y)\n",
    "sum(x,y)\n",
    "print(\"Outside the function the global variable total is:\",total)"
   ]
  },
  {
   "cell_type": "code",
   "execution_count": null,
   "id": "5ee23d7c",
   "metadata": {},
   "outputs": [
    {
     "ename": "ModuleNotFoundError",
     "evalue": "No module named 'numpy'",
     "output_type": "error",
     "traceback": [
      "\u001b[1;31m---------------------------------------------------------------------------\u001b[0m",
      "\u001b[1;31mModuleNotFoundError\u001b[0m                       Traceback (most recent call last)",
      "Cell \u001b[1;32mIn[13], line 1\u001b[0m\n\u001b[1;32m----> 1\u001b[0m \u001b[38;5;28;01mimport\u001b[39;00m \u001b[38;5;21;01mnumpy\u001b[39;00m \u001b[38;5;28;01mas\u001b[39;00m \u001b[38;5;21;01mnp\u001b[39;00m\n\u001b[0;32m      3\u001b[0m arr\u001b[38;5;241m=\u001b[39mnp\u001b[38;5;241m.\u001b[39marray([ [\u001b[38;5;241m1\u001b[39m,\u001b[38;5;241m2\u001b[39m,\u001b[38;5;241m3\u001b[39m,\u001b[38;5;241m4\u001b[39m,\u001b[38;5;241m5\u001b[39m],\n\u001b[0;32m      4\u001b[0m                [\u001b[38;5;241m12\u001b[39m,\u001b[38;5;241m13\u001b[39m,\u001b[38;5;241m14\u001b[39m,\u001b[38;5;241m15\u001b[39m,\u001b[38;5;241m20\u001b[39m] ], )\n\u001b[0;32m      6\u001b[0m \u001b[38;5;28mprint\u001b[39m(\u001b[38;5;124m\"\u001b[39m\u001b[38;5;124marray is of type:\u001b[39m\u001b[38;5;124m\"\u001b[39m,\u001b[38;5;28mtype\u001b[39m(arr))\n",
      "\u001b[1;31mModuleNotFoundError\u001b[0m: No module named 'numpy'"
     ]
    }
   ],
   "source": [
    "import numpy as np\n",
    "\n",
    "arr=np.array([ [1,2,3,4,5],\n",
    "               [12,13,14,15,20] ], )\n",
    "\n",
    "print(\"array is of type:\",type(arr))\n",
    "print(\"No. of dimensions:\",arr.ndim)\n",
    "print(\"Shape of array:\",arr.shape)\n",
    "print(arr)\n",
    "print(\"size of array:\",arr.size)"
   ]
  },
  {
   "cell_type": "code",
   "execution_count": null,
   "id": "ce8801b8",
   "metadata": {},
   "outputs": [
    {
     "name": "stdout",
     "output_type": "stream",
     "text": [
      "[[ True  True  True  True False]\n",
      " [False  True  True  True  True]]\n",
      "\n",
      "[[ 1.  2.  3.  4.  5.]\n",
      " [12. 13. 14. 15. 20.]]\n",
      "\n",
      "[[ 1  2  3  4  5]\n",
      " [12 13 14 15 20]]\n",
      "\n",
      "[[ 1.+0.j  2.+0.j  3.+0.j  4.+0.j  5.+0.j]\n",
      " [12.+0.j 13.+0.j 14.+0.j 15.+0.j 20.+0.j]]\n"
     ]
    }
   ],
   "source": [
    "arr=np.array([ [1,2,3,4,0],\n",
    "               [0,13,14,15,20] ],bool )\n",
    "print(arr)\n",
    "print(\"\")\n",
    "arr=np.array([ [1,2,3,4,5],\n",
    "               [12,13,14,15,20] ], float)\n",
    "print(arr)\n",
    "print('')\n",
    "arr=np.array([ [1,2,3,4,5],\n",
    "               [12,13,14,15,20] ], int)\n",
    "print(arr)\n",
    "print(\"\")\n",
    "arr=np.array([ [1,2,3,4,5],\n",
    "               [12,13,14,15,20] ], complex)\n",
    "print(arr)"
   ]
  },
  {
   "cell_type": "code",
   "execution_count": null,
   "id": "244bfdf1",
   "metadata": {},
   "outputs": [
    {
     "name": "stdout",
     "output_type": "stream",
     "text": [
      "\n",
      " [[1. 2. 4.]\n",
      " [5. 8. 7.]]\n",
      "\n",
      " [1 3 2]\n",
      "\n",
      " [[0. 0. 0. 0.]\n",
      " [0. 0. 0. 0.]\n",
      " [0. 0. 0. 0.]]\n",
      "\n",
      " [[1. 1. 1.]\n",
      " [1. 1. 1.]]\n",
      "\n",
      " [[0.87924051 0.55769544]\n",
      " [0.69967417 0.62387872]]\n",
      "creates a sequence of integers, from 0 to 50 with step 10\n",
      " [ 0 10 20 30 40]\n",
      "Original array:\n",
      " [[1 2 3 4]\n",
      " [5 2 4 2]\n",
      " [1 2 0 1]]\n",
      "Reshaped array:\n",
      " [[[1 2 3]\n",
      "  [4 5 2]]\n",
      "\n",
      " [[4 2 1]\n",
      "  [2 0 1]]]\n"
     ]
    }
   ],
   "source": [
    "import numpy as np\n",
    "\n",
    "a=np.array([[1, 2, 4], [5, 8, 7]],float)\n",
    "print(\"\\n\",a)\n",
    "\n",
    "b = np.array((1 , 3, 2))\n",
    "print(\"\\n\",b)\n",
    "\n",
    "c=np.zeros((3,4))\n",
    "print(\"\\n\",c)\n",
    "\n",
    "d=np.ones((2,3))\n",
    "print(\"\\n\",d)\n",
    "\n",
    "e=np.random.random((2,2))\n",
    "print(\"\\n\",e)\n",
    "\n",
    "f=np.arange(0,50,10)\n",
    "print(\"creates a sequence of integers, from 0 to 50 with step 10\\n\",f)\n",
    "\n",
    "arr = np.array([[1, 2, 3, 4],\n",
    "                [5, 2, 4, 2],\n",
    "                [1, 2, 0, 1]])\n",
    " \n",
    "newarr = arr.reshape(2, 2, 3)\n",
    " \n",
    "print (\"Original array:\\n\", arr)\n",
    "print (\"Reshaped array:\\n\", newarr)"
   ]
  },
  {
   "cell_type": "code",
   "execution_count": null,
   "id": "c9afadba",
   "metadata": {},
   "outputs": [
    {
     "name": "stdout",
     "output_type": "stream",
     "text": [
      "\n",
      "Original array:\n",
      " [[1 2 3 4]\n",
      " [5 2 4 2]\n",
      " [1 2 0 1]]\n",
      "Reshaped array:\n",
      " [[[1 2 3]\n",
      "  [4 5 2]]\n",
      "\n",
      " [[4 2 1]\n",
      "  [2 0 1]]]\n"
     ]
    }
   ],
   "source": [
    "arr = np.array([[1, 2, 3, 4],\n",
    "                [5, 2, 4, 2],\n",
    "                [1, 2, 0, 1]])\n",
    " \n",
    "newarr = arr.reshape(2, 2, 3)\n",
    " \n",
    "print (\"\\nOriginal array:\\n\", arr)\n",
    "print (\"Reshaped array:\\n\", newarr)"
   ]
  },
  {
   "cell_type": "code",
   "execution_count": null,
   "id": "724da157",
   "metadata": {},
   "outputs": [
    {
     "name": "stdout",
     "output_type": "stream",
     "text": [
      "Enter number5\n",
      "Enter value of:12\n",
      "Enter value of:10\n",
      "Enter value of:5\n",
      "Enter value of:2\n",
      "Enter value of:3\n",
      "[12 10  5  2  3]\n",
      "6.4\n",
      "15.440000000000001\n",
      "3.9293765408777004\n",
      "5.0\n",
      "12\n",
      "6.4\n"
     ]
    }
   ],
   "source": [
    "import numpy as np\n",
    "\n",
    "n=int(input(\"Enter number\"))\n",
    "mylist=[]\n",
    "for i in range(n):\n",
    "    x=int(int(input(\"Enter value of:\")))\n",
    "    mylist.append(x)\n",
    "\n",
    "# print(mylist)\n",
    "\n",
    "arr=np.array(mylist)\n",
    "print(arr)\n",
    "\n",
    "mean=np.mean(arr)\n",
    "print(mean)\n",
    "\n",
    "var=np.var(arr)\n",
    "print(var)\n",
    "\n",
    "stddev=np.std(arr)\n",
    "print(stddev)\n",
    "\n",
    "median=np.median(arr)\n",
    "print(median)\n",
    "# _________________________________________________________________________________________________ #\n",
    "\n",
    "import statistics as st\n",
    "mode=st.mode(arr)\n",
    "print(mode)\n",
    "\n",
    "sum=0\n",
    "for i in range(n):\n",
    "    sum=sum+arr[i]\n",
    "avg=sum/n\n",
    "print(avg)\n",
    "\n",
    "\n"
   ]
  },
  {
   "cell_type": "code",
   "execution_count": null,
   "id": "0f4a612b",
   "metadata": {},
   "outputs": [
    {
     "name": "stdout",
     "output_type": "stream",
     "text": [
      "11\n",
      "12\n",
      "13\n",
      "14\n",
      "15\n",
      "17\n",
      "16\n",
      "18\n",
      "19\n",
      "13\n",
      "The sum of all numbers is 48\n",
      "[0 1 2 3 4 5 6 7 8 9] [[7 7 3]\n",
      " [1 3 2]]\n"
     ]
    }
   ],
   "source": [
    "import numpy as np\n",
    "\n",
    "a=np.array([1,2,3,4,5,7,6,8,9,3],int)\n",
    "for i in a:\n",
    "    print(i+10)\n",
    "sum=np.sum(a)\n",
    "print('The sum of all numbers is',sum)\n",
    "np.save('numpy',sum)\n",
    "\n",
    "x=np.arange(10)\n",
    "y=np.random.randint(1,10,(2,3))\n",
    "np.savez('numpy1',first=x,second=y)\n",
    "np.load('numpy1.npz')\n",
    "print(x,y)\n",
    "\n",
    "\n"
   ]
  },
  {
   "cell_type": "code",
   "execution_count": null,
   "id": "9ea67717",
   "metadata": {},
   "outputs": [],
   "source": []
  }
 ],
 "metadata": {
  "kernelspec": {
   "display_name": "Python 3 (ipykernel)",
   "language": "python",
   "name": "python3"
  },
  "language_info": {
   "codemirror_mode": {
    "name": "ipython",
    "version": 3
   },
   "file_extension": ".py",
   "mimetype": "text/x-python",
   "name": "python",
   "nbconvert_exporter": "python",
   "pygments_lexer": "ipython3",
   "version": "3.12.2"
  }
 },
 "nbformat": 4,
 "nbformat_minor": 5
}
