{
 "cells": [
  {
   "cell_type": "code",
   "execution_count": 4,
   "metadata": {},
   "outputs": [
    {
     "name": "stdout",
     "output_type": "stream",
     "text": [
      "\n",
      "Trianing Data Shape is (354, 13) and (354,)\n",
      "\n",
      "Testing Data Shape is (152, 13) and (152,)\n"
     ]
    }
   ],
   "source": [
    "import pandas as pd\n",
    "import numpy as np\n",
    "import math\n",
    "data=pd.read_csv(\"BostonHousing.csv\",header=\"infer\").values\n",
    "X=data[:,0:-1]\n",
    "Y=data[:,-1]\n",
    "nrows=data.shape[0]\n",
    "test_split=float(input(\"Enter any number between 0 to 1 to decide test data :\"))\n",
    "row_train=math.floor((1-test_split)*nrows)\n",
    "all_indicies=np.random.permutation(nrows)\n",
    "x_train=X[all_indicies[0:row_train],:]\n",
    "y_train=Y[all_indicies[0:row_train]]\n",
    "x_test=X[all_indicies[row_train:],:]\n",
    "y_test=Y[all_indicies[row_train:]]\n",
    "print()\n",
    "print(\"Trianing Data Shape is \" + str(x_train.shape) + \" and \" +\n",
    " str(y_train.shape))\n",
    "print()\n",
    "print(\"Testing Data Shape is \" + str(x_test.shape) + \" and \" +\n",
    " str(y_test.shape))\n"
   ]
  },
  {
   "cell_type": "code",
   "execution_count": 8,
   "metadata": {},
   "outputs": [
    {
     "name": "stdout",
     "output_type": "stream",
     "text": [
      "\n",
      "Trianing Data Shape is (354, 13) and (354,)\n",
      "\n",
      "Testing Data Shape is (152, 13) and (152,)\n"
     ]
    }
   ],
   "source": [
    "from sklearn.model_selection import train_test_split\n",
    "data=pd.read_csv(\"BostonHousing.csv\",header=\"infer\").values\n",
    "X=data[:,0:-1]\n",
    "Y=data[:,-1]\n",
    "nrows=data.shape[0]\n",
    "test_split=float(input(\"Enter any number between 0 to 1 to decide test data :\"))\n",
    "X_train,X_test,Y_train,Y_test=train_test_split(X,Y,test_size=test_split)\n",
    "print()\n",
    "print(\"Trianing Data Shape is \" + str(x_train.shape) + \" and \" +\n",
    " str(y_train.shape))\n",
    "print()\n",
    "print(\"Testing Data Shape is \" + str(x_test.shape) + \" and \" +\n",
    " str(y_test.shape))\n"
   ]
  }
 ],
 "metadata": {
  "kernelspec": {
   "display_name": "Python 3 (ipykernel)",
   "language": "python",
   "name": "python3"
  },
  "language_info": {
   "codemirror_mode": {
    "name": "ipython",
    "version": 3
   },
   "file_extension": ".py",
   "mimetype": "text/x-python",
   "name": "python",
   "nbconvert_exporter": "python",
   "pygments_lexer": "ipython3",
   "version": "3.11.2"
  }
 },
 "nbformat": 4,
 "nbformat_minor": 2
}
