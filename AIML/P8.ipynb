{
 "cells": [
  {
   "cell_type": "code",
   "execution_count": 1,
   "id": "fb03c922",
   "metadata": {},
   "outputs": [
    {
     "name": "stdout",
     "output_type": "stream",
     "text": [
      "[[0. 0. 0. 0.]\n",
      " [0. 0. 0. 0.]\n",
      " [0. 0. 0. 0.]]\n",
      "centroids after 10000 iterations\n",
      "[[6.79677419 3.10322581 5.67741935 2.06129032]\n",
      " [5.93469388 2.75306122 4.40204082 1.44693878]\n",
      " [4.9825     3.3875     1.465      0.2475    ]]\n",
      "[1 0 2 2 0 0 2 0 2 1 1 1 2 1 2 0 2 0 0 1 1 2 0 0 0 1 1 2 1 2]\n",
      "[1 2 0 0 2 2 0 2 0 1 1 1 1 1 0 2 1 2 2 1 1 0 2 2 2 1 1 0 1 1]\n"
     ]
    }
   ],
   "source": [
    "import pandas as pd\n",
    "import numpy as np\n",
    "from sklearn.model_selection import train_test_split\n",
    "\n",
    "data=pd.read_csv('iris.csv',header='infer').values\n",
    "x=data[:,1:-1]\n",
    "y=data[:,-1]\n",
    "\n",
    "x_train,x_test,y_train,y_test=train_test_split(x,y,test_size=0.2,stratify=y)\n",
    "k=int(input(\"Enter no. of clusters: \"))\n",
    "n=int(input(\"Enter no. of iterations: \"))\n",
    "\n",
    "per=np.random.permutation(x_train.shape[0])\n",
    "centroids=np.zeros(shape=(k,x_train.shape[1]))\n",
    "print(centroids)\n",
    "\n",
    "for i in range(k):\n",
    "    centroids[i,:]=x_train[per[i],:]\n",
    "\n",
    "for it in range(n):\n",
    "    dist=np.zeros(shape=(k,x_train.shape[0]))\n",
    "    for i in range(k):\n",
    "        dist[i,:]=np.sqrt(np.sum((x_train-centroids[i,:])**2,axis=1))\n",
    "        membership=np.argmin(dist,axis=0)\n",
    "    for i in range(k):\n",
    "        centroids[i,:]=np.mean(x_train[membership==i,:],axis=0)\n",
    "\n",
    "print(\"centroids after \"+str(n)+\" iterations\")\n",
    "print(centroids)\n",
    "\n",
    "dist=np.zeros(shape=(k,x_test.shape[0]))\n",
    "for i in range(k):\n",
    "    dist[i]=np.sqrt(np.sum((x_test-centroids[i,:])**2,axis=1))\n",
    "membership=np.argmin(dist,axis=0)\n",
    "\n",
    "print(y_test.astype(int))\n",
    "print(membership)\n",
    "\n"
   ]
  },
  {
   "cell_type": "code",
   "execution_count": 9,
   "id": "6a42e21b",
   "metadata": {},
   "outputs": [
    {
     "name": "stdout",
     "output_type": "stream",
     "text": [
      "[[0. 0. 0. 0.]\n",
      " [0. 0. 0. 0.]\n",
      " [0. 0. 0. 0.]]\n",
      "centroids after 10000 iterations\n",
      "[[5.93061224 2.75306122 4.4122449  1.45510204]\n",
      " [6.81935484 3.08064516 5.7516129  2.07096774]\n",
      " [5.0025     3.45       1.4575     0.25      ]]\n",
      "[1 1 0 0 2 0 0 2 1 2 1 0 1 2 0 1 1 0 1 0 0 1 2 2 1 2 2 0 2 2]\n",
      "[0 0 2 2 0 2 2 1 0 1 0 2 0 1 2 0 0 2 0 2 2 0 0 0 0 1 1 2 1 1]\n"
     ]
    }
   ],
   "source": [
    "import pandas as pd\n",
    "import numpy as np\n",
    "from sklearn.model_selection import train_test_split\n",
    "\n",
    "df=pd.read_csv('iris.csv',header='infer').values\n",
    "x=df[:,1:-1]\n",
    "y=df[:,-1]\n",
    "\n",
    "x_train,x_test,y_train,y_test=train_test_split(x,y,test_size=0.2,stratify=y)\n",
    "\n",
    "k=int(input(\"ENter no. of clusters: \"))\n",
    "n=int(input(\"Enter no of iterations: \"))\n",
    "per=np.random.permutation(x_train.shape[0])\n",
    "centroids=np.zeros(shape=(k,x_train.shape[1]))\n",
    "print(centroids)\n",
    "\n",
    "for i in range(k):\n",
    "    centroids[i,:]=x_train[per[i],:]\n",
    "\n",
    "for it in range(n):\n",
    "    dist=np.zeros(shape=(k,x_train.shape[0]))\n",
    "    for i in range(k):\n",
    "        dist[i,:]=np.sqrt(np.sum((x_train-centroids[i,:])**2,axis=1))\n",
    "        membership=np.argmin(dist,axis=0)\n",
    "    for i in range(k):\n",
    "        centroids[i,:]=np.mean(x_train[membership==i,:],axis=0)\n",
    "\n",
    "print(\"centroids after \"+str(n)+\" iterations\")\n",
    "print(centroids)\n",
    "\n",
    "dist=np.zeros(shape=(k,x_test.shape[0]))\n",
    "for i in range(k):\n",
    "        dist[i]=np.sqrt(np.sum((x_test-centroids[i,:])**2,axis=1))\n",
    "membership=np.argmin(dist,axis=0)\n",
    "\n",
    "print(y_test.astype(int))\n",
    "print(membership)"
   ]
  },
  {
   "cell_type": "code",
   "execution_count": null,
   "id": "e5fd79af",
   "metadata": {},
   "outputs": [],
   "source": []
  },
  {
   "cell_type": "code",
   "execution_count": 11,
   "id": "4194b76f",
   "metadata": {},
   "outputs": [
    {
     "data": {
      "image/png": "[encoded data removed]",
      "text/plain": [
       "<Figure size 640x480 with 1 Axes>"
      ]
     },
     "metadata": {},
     "output_type": "display_data"
    },
    {
     "data": {
      "image/png": "[encoded data removed]",
      "text/plain": [
       "<Figure size 640x480 with 1 Axes>"
      ]
     },
     "metadata": {},
     "output_type": "display_data"
    }
   ],
   "source": [
    "import numpy as np\n",
    "from matplotlib import pyplot as plt\n",
    "\n",
    "X=np.array([[0,0],[0,1],[1,0],[1,1]])\n",
    "Y=np.array([0,0,0,1])\n",
    "\n",
    "plt.scatter(x=X[:,0],y=X[:,1],c=Y)\n",
    "plt.show()\n",
    "\n",
    "nsamples=X.shape[0]\n",
    "nfeatures=X.shape[1]\n",
    "\n",
    "w=np.random.uniform(0,1,size=nfeatures)\n",
    "b=np.random.uniform(0,1,1)\n",
    "\n",
    "epoch=int(input(\"Enter no.of epoches: \"))\n",
    "lr=0.01\n",
    "for e in range(epoch):\n",
    "    for s in range(nsamples):\n",
    "        net=np.dot(X[s,:],w)+b\n",
    "        if net>=0:\n",
    "            a=1\n",
    "        else:\n",
    "            a=0\n",
    "        error=Y[s]-a\n",
    "        w=w+lr*error*X[s,:]\n",
    "        b+b+lr*error\n",
    "\n",
    "m= -w[0]/w[1]\n",
    "c= -b/w[1]\n",
    "def plot_decision_boundary2(X):\n",
    "    for x in np.linspace(np.min(X[:, 0]), np.max(X[:, 0])):\n",
    "        y = m * x + c\n",
    "        plt.plot(x, y, linestyle='-', color='k', marker='.')\n",
    "    plt.scatter(X[:, 0], X[:, 1], c=Y)\n",
    "    plt.show()\n",
    "\n",
    "\n",
    "plot_decision_boundary2(X)"
   ]
  }
 ],
 "metadata": {
  "kernelspec": {
   "display_name": "Python 3 (ipykernel)",
   "language": "python",
   "name": "python3"
  },
  "language_info": {
   "codemirror_mode": {
    "name": "ipython",
    "version": 3
   },
   "file_extension": ".py",
   "mimetype": "text/x-python",
   "name": "python",
   "nbconvert_exporter": "python",
   "pygments_lexer": "ipython3",
   "version": "3.11.2"
  }
 },
 "nbformat": 4,
 "nbformat_minor": 5
}
