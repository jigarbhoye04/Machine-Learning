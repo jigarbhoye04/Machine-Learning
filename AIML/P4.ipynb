{
 "cells": [
  {
   "cell_type": "code",
   "execution_count": 1,
   "id": "f9a30107",
   "metadata": {},
   "outputs": [
    {
     "name": "stdout",
     "output_type": "stream",
     "text": [
      "[[  0 633 257  91 412 150  80 134 259 505 353]\n",
      " [633   0 390 661 227 488 572 530 555 289 282]\n",
      " [257 390   0 228 169 112 196 154 372 262 110]\n",
      " [ 91 661 228   0 383 120  77 105 175 476 324]\n",
      " [412 227 169 383   0 267 351 309 338 196  61]\n",
      " [150 488 112 120 267   0  63  34 264 360 208]\n",
      " [ 80 572 196  77 351  63   0  29 232 444 292]\n",
      " [134 530 154 105 309  34  29   0 249 402 250]\n",
      " [259 555 372 175 338 264 232 249   0 495 352]\n",
      " [505 289 262 476 196 360 444 402 495   0 154]\n",
      " [353 282 110 324  61 208 292 250 352 154   0]]\n",
      "int64\n",
      "[0, 1, 2, 3, 4, 5, 6, 7, 8, 9, 10]\n",
      "Best tour (0, 3, 8, 4, 1, 9, 10, 2, 5, 7, 6)\n",
      "Best tour length 1639\n",
      "Time Taken: 348515.625\n"
     ]
    }
   ],
   "source": [
    "import pandas as pd\n",
    "import numpy as np\n",
    "import time\n",
    "from itertools import permutations\n",
    "\n",
    "data=pd.read_csv('11citytsp.csv',header=None).values\n",
    "print(data)\n",
    "print(data.dtype)\n",
    "citynames=list(range(data.shape[0]))\n",
    "print(citynames)\n",
    "pm=permutations(citynames)\n",
    "\n",
    "st=time.process_time()\n",
    "best_tour_length=np.inf\n",
    "for tour in pm:\n",
    "    tour_length=0\n",
    "    for i in range(len(tour)-1):\n",
    "        tour_length+=data[tour[i],tour[i+1]]\n",
    "    tour_length+=data[tour[i+1],tour[0]]\n",
    "    \n",
    "    if tour_length < best_tour_length:\n",
    "        best_tour_length=tour_length\n",
    "        best_tour=tour\n",
    "et=time.process_time()\n",
    "time_taken=(et-st)*1000\n",
    "print(\"Best tour\",best_tour)\n",
    "print(\"Best tour length\",best_tour_length)\n",
    "print(\"Time Taken:\",time_taken)"
   ]
  },
  {
   "cell_type": "code",
   "execution_count": 2,
   "id": "04e016dd",
   "metadata": {},
   "outputs": [
    {
     "name": "stdout",
     "output_type": "stream",
     "text": [
      "Enter starting city from 0 to 11:5\n",
      "Best tour (2, 10, 9, 1, 4, 8, 3, 0, 6, 7)\n",
      "Best tour length 1639\n",
      "Time Taken: 30625.0\n"
     ]
    }
   ],
   "source": [
    "import pandas as pd\n",
    "from itertools import permutations\n",
    "import numpy as np\n",
    "import time\n",
    "mat=pd.read_csv('11citytsp.csv',header=None).values\n",
    "citynames=list(range(mat.shape[0]))\n",
    "startcity=int(input(\"Enter starting city from 0 to 11:\"))\n",
    "citynames.remove(startcity)\n",
    "per=permutations(citynames)\n",
    "\n",
    "\n",
    "st=time.process_time()\n",
    "besttourlength=np.inf\n",
    "for tour in per:\n",
    "    tourlength=0\n",
    "    for i in range(len(tour)-1):\n",
    "        tourlength+=mat[tour[i],tour[i+1]]\n",
    "    tourlength+=mat[tour[i+1],startcity]\n",
    "    tourlength+=mat[startcity,tour[0]]\n",
    "    \n",
    "    if tourlength < besttourlength:\n",
    "        besttourlength=tourlength\n",
    "        besttour=tour\n",
    "et=time.process_time()\n",
    "time_taken=(et-st)*1000\n",
    "print(\"Best tour\",besttour)\n",
    "print(\"Best tour length\",besttourlength)\n",
    "print(\"Time Taken:\",time_taken)"
   ]
  },
  {
   "cell_type": "code",
   "execution_count": null,
   "id": "f841eabb",
   "metadata": {},
   "outputs": [],
   "source": []
  }
 ],
 "metadata": {
  "kernelspec": {
   "display_name": "Python 3 (ipykernel)",
   "language": "python",
   "name": "python3"
  },
  "language_info": {
   "codemirror_mode": {
    "name": "ipython",
    "version": 3
   },
   "file_extension": ".py",
   "mimetype": "text/x-python",
   "name": "python",
   "nbconvert_exporter": "python",
   "pygments_lexer": "ipython3",
   "version": "3.11.2"
  }
 },
 "nbformat": 4,
 "nbformat_minor": 5
}
